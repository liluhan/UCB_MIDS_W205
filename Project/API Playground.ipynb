{
 "cells": [
  {
   "cell_type": "markdown",
   "metadata": {},
   "source": [
    "This notebook plays around with different APIs for the project."
   ]
  },
  {
   "cell_type": "markdown",
   "metadata": {},
   "source": [
    "### Zillow\n",
    "Master API Page: http://www.zillow.com/howto/api/APIOverview.htm?utm_source=email&utm_medium=email&utm_campaign=emo-apiregistration-api\n",
    "\n",
    "Your Zillow Web Services Identification (ZWSID) is: X1-ZWz19zd6kkxpu3_32ywy"
   ]
  },
  {
   "cell_type": "code",
   "execution_count": 1,
   "metadata": {
    "collapsed": true
   },
   "outputs": [],
   "source": [
    "ZILLOW_API_KEY = 'X1-ZWz19zd6kkxpu3_32ywy'"
   ]
  },
  {
   "cell_type": "code",
   "execution_count": 8,
   "metadata": {
    "collapsed": true
   },
   "outputs": [],
   "source": [
    "import pyzillow\n",
    "from pyzillow.pyzillow import * #ZillowWrapper, GetDeepSearchResults, GetUpdatedPropertyDetails"
   ]
  },
  {
   "cell_type": "code",
   "execution_count": 18,
   "metadata": {
    "collapsed": false
   },
   "outputs": [
    {
     "data": {
      "text/plain": [
       "'48749425'"
      ]
     },
     "execution_count": 18,
     "metadata": {},
     "output_type": "execute_result"
    }
   ],
   "source": [
    "address = '2114 Bigelow Ave'\n",
    "zipcode = 'Seattle, WA'\n",
    "\n",
    "zillow_data = ZillowWrapper(ZILLOW_API_KEY)\n",
    "deep_search_response = zillow_data.get_deep_search_results(address, zipcode)\n",
    "deep_search_result = GetDeepSearchResults(deep_search_response)\n",
    "deep_search_result.zillow_id # zillow id, needed for the GetUpdatedPropertyDetails"
   ]
  },
  {
   "cell_type": "code",
   "execution_count": 19,
   "metadata": {
    "collapsed": false
   },
   "outputs": [
    {
     "data": {
      "text/plain": [
       "<Element 'response' at 0x7fafb634cf30>"
      ]
     },
     "execution_count": 19,
     "metadata": {},
     "output_type": "execute_result"
    }
   ],
   "source": [
    "zillow_id = deep_search_result.zillow_id\n",
    "\n",
    "zillow_data = ZillowWrapper(ZILLOW_API_KEY)\n",
    "updated_property_details_response = zillow_data.get_updated_property_details(zillow_id)\n",
    "updated_property_details = GetUpdatedPropertyDetails(updated_property_details_response)\n",
    "updated_property_details.data # number of rooms of the home"
   ]
  },
  {
   "cell_type": "markdown",
   "metadata": {},
   "source": [
    "### GreatSchool.org"
   ]
  },
  {
   "cell_type": "markdown",
   "metadata": {},
   "source": [
    "Master Page: http://www.greatschools.org/api/docs/main.page?s_cid=eml_api_welcome\n",
    "\n",
    "Nearby Schools: http://www.greatschools.org/api/docs/nearbySchools.page\n",
    "\n",
    "Test Scores: http://www.greatschools.org/api/docs/schoolTestScores.page\n",
    "\n",
    "School Profile: http://www.greatschools.org/api/docs/schoolProfile.page\n",
    "\n",
    "GreatSchool API Key: 872nxnsgpqsqtomd3ngw7gxx"
   ]
  },
  {
   "cell_type": "code",
   "execution_count": 1,
   "metadata": {
    "collapsed": true
   },
   "outputs": [],
   "source": [
    "GREATSCHOOL_API_KEY = '872nxnsgpqsqtomd3ngw7gxx'"
   ]
  }
 ],
 "metadata": {
  "kernelspec": {
   "display_name": "Python 2",
   "language": "python",
   "name": "python2"
  },
  "language_info": {
   "codemirror_mode": {
    "name": "ipython",
    "version": 2
   },
   "file_extension": ".py",
   "mimetype": "text/x-python",
   "name": "python",
   "nbconvert_exporter": "python",
   "pygments_lexer": "ipython2",
   "version": "2.7.10"
  }
 },
 "nbformat": 4,
 "nbformat_minor": 0
}
